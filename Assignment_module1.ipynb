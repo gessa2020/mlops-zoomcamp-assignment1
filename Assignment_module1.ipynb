{
 "cells": [
  {
   "cell_type": "code",
   "execution_count": 1,
   "id": "6b9533cf-561c-465f-a440-a1e935f23a1b",
   "metadata": {},
   "outputs": [],
   "source": [
    "import pandas as pd\n",
    "import seaborn as sns\n",
    "import matplotlib.pyplot as plt\n",
    "from sklearn.feature_extraction import DictVectorizer\n",
    "from sklearn.linear_model import LinearRegression\n",
    "from sklearn.metrics import mean_squared_error\n",
    "import warnings\n",
    "warnings.filterwarnings(\"ignore\")"
   ]
  },
  {
   "cell_type": "code",
   "execution_count": 2,
   "id": "1430a029-8be7-4a30-b156-4ec9cb341269",
   "metadata": {},
   "outputs": [],
   "source": [
    "df_train = pd.read_parquet(\"C:/Users/PROFFESSOR/Desktop/DATA_TALKS/assignment1/fhv_tripdata_2021-01.parquet\")\n",
    "df_val = pd.read_parquet(\"C:/Users/PROFFESSOR/Desktop/DATA_TALKS/assignment1/fhv_tripdata_2021-02.parquet\")"
   ]
  },
  {
   "cell_type": "code",
   "execution_count": 3,
   "id": "54cf56c8-7f05-488c-bfed-84904f745116",
   "metadata": {},
   "outputs": [
    {
     "data": {
      "text/plain": [
       "((1154112, 7), (1037692, 7))"
      ]
     },
     "execution_count": 3,
     "metadata": {},
     "output_type": "execute_result"
    }
   ],
   "source": [
    "df_train.shape, df_val.shape"
   ]
  },
  {
   "cell_type": "markdown",
   "id": "4ad0f8f0-f5e5-49f5-b848-bf38c15c09ed",
   "metadata": {},
   "source": [
    "## QN1. How many data records are there in January\n",
    "\n",
    "### 1154112"
   ]
  },
  {
   "cell_type": "code",
   "execution_count": 4,
   "id": "c89553c9-e8c8-4029-97d5-e2a9ce9f9119",
   "metadata": {},
   "outputs": [
    {
     "data": {
      "text/html": [
       "<div>\n",
       "<style scoped>\n",
       "    .dataframe tbody tr th:only-of-type {\n",
       "        vertical-align: middle;\n",
       "    }\n",
       "\n",
       "    .dataframe tbody tr th {\n",
       "        vertical-align: top;\n",
       "    }\n",
       "\n",
       "    .dataframe thead th {\n",
       "        text-align: right;\n",
       "    }\n",
       "</style>\n",
       "<table border=\"1\" class=\"dataframe\">\n",
       "  <thead>\n",
       "    <tr style=\"text-align: right;\">\n",
       "      <th></th>\n",
       "      <th>dispatching_base_num</th>\n",
       "      <th>pickup_datetime</th>\n",
       "      <th>dropOff_datetime</th>\n",
       "      <th>PUlocationID</th>\n",
       "      <th>DOlocationID</th>\n",
       "      <th>SR_Flag</th>\n",
       "      <th>Affiliated_base_number</th>\n",
       "    </tr>\n",
       "  </thead>\n",
       "  <tbody>\n",
       "    <tr>\n",
       "      <th>0</th>\n",
       "      <td>B00009</td>\n",
       "      <td>2021-01-01 00:27:00</td>\n",
       "      <td>2021-01-01 00:44:00</td>\n",
       "      <td>NaN</td>\n",
       "      <td>NaN</td>\n",
       "      <td>None</td>\n",
       "      <td>B00009</td>\n",
       "    </tr>\n",
       "    <tr>\n",
       "      <th>1</th>\n",
       "      <td>B00009</td>\n",
       "      <td>2021-01-01 00:50:00</td>\n",
       "      <td>2021-01-01 01:07:00</td>\n",
       "      <td>NaN</td>\n",
       "      <td>NaN</td>\n",
       "      <td>None</td>\n",
       "      <td>B00009</td>\n",
       "    </tr>\n",
       "    <tr>\n",
       "      <th>2</th>\n",
       "      <td>B00013</td>\n",
       "      <td>2021-01-01 00:01:00</td>\n",
       "      <td>2021-01-01 01:51:00</td>\n",
       "      <td>NaN</td>\n",
       "      <td>NaN</td>\n",
       "      <td>None</td>\n",
       "      <td>B00013</td>\n",
       "    </tr>\n",
       "    <tr>\n",
       "      <th>3</th>\n",
       "      <td>B00037</td>\n",
       "      <td>2021-01-01 00:13:09</td>\n",
       "      <td>2021-01-01 00:21:26</td>\n",
       "      <td>NaN</td>\n",
       "      <td>72.0</td>\n",
       "      <td>None</td>\n",
       "      <td>B00037</td>\n",
       "    </tr>\n",
       "    <tr>\n",
       "      <th>4</th>\n",
       "      <td>B00037</td>\n",
       "      <td>2021-01-01 00:38:31</td>\n",
       "      <td>2021-01-01 00:53:44</td>\n",
       "      <td>NaN</td>\n",
       "      <td>61.0</td>\n",
       "      <td>None</td>\n",
       "      <td>B00037</td>\n",
       "    </tr>\n",
       "  </tbody>\n",
       "</table>\n",
       "</div>"
      ],
      "text/plain": [
       "  dispatching_base_num     pickup_datetime    dropOff_datetime  PUlocationID  \\\n",
       "0               B00009 2021-01-01 00:27:00 2021-01-01 00:44:00           NaN   \n",
       "1               B00009 2021-01-01 00:50:00 2021-01-01 01:07:00           NaN   \n",
       "2               B00013 2021-01-01 00:01:00 2021-01-01 01:51:00           NaN   \n",
       "3               B00037 2021-01-01 00:13:09 2021-01-01 00:21:26           NaN   \n",
       "4               B00037 2021-01-01 00:38:31 2021-01-01 00:53:44           NaN   \n",
       "\n",
       "   DOlocationID SR_Flag Affiliated_base_number  \n",
       "0           NaN    None                 B00009  \n",
       "1           NaN    None                 B00009  \n",
       "2           NaN    None                 B00013  \n",
       "3          72.0    None                 B00037  \n",
       "4          61.0    None                 B00037  "
      ]
     },
     "execution_count": 4,
     "metadata": {},
     "output_type": "execute_result"
    }
   ],
   "source": [
    "df_train.head()"
   ]
  },
  {
   "cell_type": "code",
   "execution_count": 5,
   "id": "31869f33-aa05-44f3-ae87-a220ba877263",
   "metadata": {},
   "outputs": [
    {
     "data": {
      "text/html": [
       "<div>\n",
       "<style scoped>\n",
       "    .dataframe tbody tr th:only-of-type {\n",
       "        vertical-align: middle;\n",
       "    }\n",
       "\n",
       "    .dataframe tbody tr th {\n",
       "        vertical-align: top;\n",
       "    }\n",
       "\n",
       "    .dataframe thead th {\n",
       "        text-align: right;\n",
       "    }\n",
       "</style>\n",
       "<table border=\"1\" class=\"dataframe\">\n",
       "  <thead>\n",
       "    <tr style=\"text-align: right;\">\n",
       "      <th></th>\n",
       "      <th>dispatching_base_num</th>\n",
       "      <th>pickup_datetime</th>\n",
       "      <th>dropOff_datetime</th>\n",
       "      <th>PUlocationID</th>\n",
       "      <th>DOlocationID</th>\n",
       "      <th>SR_Flag</th>\n",
       "      <th>Affiliated_base_number</th>\n",
       "    </tr>\n",
       "  </thead>\n",
       "  <tbody>\n",
       "    <tr>\n",
       "      <th>0</th>\n",
       "      <td>B00013</td>\n",
       "      <td>2021-02-01 00:01:00</td>\n",
       "      <td>2021-02-01 01:33:00</td>\n",
       "      <td>NaN</td>\n",
       "      <td>NaN</td>\n",
       "      <td>None</td>\n",
       "      <td>B00014</td>\n",
       "    </tr>\n",
       "    <tr>\n",
       "      <th>1</th>\n",
       "      <td>B00021</td>\n",
       "      <td>2021-02-01 00:55:40</td>\n",
       "      <td>2021-02-01 01:06:20</td>\n",
       "      <td>173.0</td>\n",
       "      <td>82.0</td>\n",
       "      <td>None</td>\n",
       "      <td>B00021</td>\n",
       "    </tr>\n",
       "    <tr>\n",
       "      <th>2</th>\n",
       "      <td>B00021</td>\n",
       "      <td>2021-02-01 00:14:03</td>\n",
       "      <td>2021-02-01 00:28:37</td>\n",
       "      <td>173.0</td>\n",
       "      <td>56.0</td>\n",
       "      <td>None</td>\n",
       "      <td>B00021</td>\n",
       "    </tr>\n",
       "    <tr>\n",
       "      <th>3</th>\n",
       "      <td>B00021</td>\n",
       "      <td>2021-02-01 00:27:48</td>\n",
       "      <td>2021-02-01 00:35:45</td>\n",
       "      <td>82.0</td>\n",
       "      <td>129.0</td>\n",
       "      <td>None</td>\n",
       "      <td>B00021</td>\n",
       "    </tr>\n",
       "    <tr>\n",
       "      <th>4</th>\n",
       "      <td>B00037</td>\n",
       "      <td>2021-02-01 00:12:50</td>\n",
       "      <td>2021-02-01 00:26:38</td>\n",
       "      <td>NaN</td>\n",
       "      <td>225.0</td>\n",
       "      <td>None</td>\n",
       "      <td>B00037</td>\n",
       "    </tr>\n",
       "  </tbody>\n",
       "</table>\n",
       "</div>"
      ],
      "text/plain": [
       "  dispatching_base_num     pickup_datetime    dropOff_datetime  PUlocationID  \\\n",
       "0               B00013 2021-02-01 00:01:00 2021-02-01 01:33:00           NaN   \n",
       "1      B00021          2021-02-01 00:55:40 2021-02-01 01:06:20         173.0   \n",
       "2      B00021          2021-02-01 00:14:03 2021-02-01 00:28:37         173.0   \n",
       "3      B00021          2021-02-01 00:27:48 2021-02-01 00:35:45          82.0   \n",
       "4               B00037 2021-02-01 00:12:50 2021-02-01 00:26:38           NaN   \n",
       "\n",
       "   DOlocationID SR_Flag Affiliated_base_number  \n",
       "0           NaN    None                 B00014  \n",
       "1          82.0    None        B00021           \n",
       "2          56.0    None        B00021           \n",
       "3         129.0    None        B00021           \n",
       "4         225.0    None                 B00037  "
      ]
     },
     "execution_count": 5,
     "metadata": {},
     "output_type": "execute_result"
    }
   ],
   "source": [
    "df_val.head()"
   ]
  },
  {
   "cell_type": "code",
   "execution_count": 6,
   "id": "1b5abd44-3164-48ce-87aa-5cf35477df34",
   "metadata": {},
   "outputs": [
    {
     "name": "stdout",
     "output_type": "stream",
     "text": [
      "<class 'pandas.core.frame.DataFrame'>\n",
      "RangeIndex: 1154112 entries, 0 to 1154111\n",
      "Data columns (total 7 columns):\n",
      " #   Column                  Non-Null Count    Dtype         \n",
      "---  ------                  --------------    -----         \n",
      " 0   dispatching_base_num    1154112 non-null  object        \n",
      " 1   pickup_datetime         1154112 non-null  datetime64[ns]\n",
      " 2   dropOff_datetime        1154112 non-null  datetime64[ns]\n",
      " 3   PUlocationID            195845 non-null   float64       \n",
      " 4   DOlocationID            991892 non-null   float64       \n",
      " 5   SR_Flag                 0 non-null        object        \n",
      " 6   Affiliated_base_number  1153227 non-null  object        \n",
      "dtypes: datetime64[ns](2), float64(2), object(3)\n",
      "memory usage: 61.6+ MB\n"
     ]
    }
   ],
   "source": [
    "df_train.info()"
   ]
  },
  {
   "cell_type": "code",
   "execution_count": 7,
   "id": "6b551612-8044-4234-978c-e10523adb1cc",
   "metadata": {},
   "outputs": [],
   "source": [
    "df_train['duration'] = df_train.dropOff_datetime - df_train.pickup_datetime\n",
    "df_val['duration'] = df_val.dropOff_datetime - df_val.pickup_datetime"
   ]
  },
  {
   "cell_type": "code",
   "execution_count": 8,
   "id": "bd7d2ef9-1f47-4459-846e-08456daa78a0",
   "metadata": {},
   "outputs": [
    {
     "data": {
      "text/plain": [
       "19.1672240937939"
      ]
     },
     "execution_count": 8,
     "metadata": {},
     "output_type": "execute_result"
    }
   ],
   "source": [
    "df_train.duration = df_train.duration.apply(lambda td: td.total_seconds() / 60)\n",
    "df_val.duration = df_val.duration.apply(lambda td: td.total_seconds() / 60)\n",
    "df_train.duration.mean()"
   ]
  },
  {
   "cell_type": "markdown",
   "id": "7ab688b0-d368-4c7d-bcfc-ba6f7bdbbd8f",
   "metadata": {},
   "source": [
    "## QN.2 What is the average trip duration in minutes in January\n",
    "### 19.16"
   ]
  },
  {
   "cell_type": "code",
   "execution_count": 9,
   "id": "a374fa95-8c8f-49bd-96d1-2fd79e2b4a97",
   "metadata": {},
   "outputs": [
    {
     "data": {
      "text/plain": [
       "count    1.154112e+06\n",
       "mean     1.916722e+01\n",
       "std      3.986922e+02\n",
       "min      1.666667e-02\n",
       "25%      7.766667e+00\n",
       "50%      1.340000e+01\n",
       "75%      2.228333e+01\n",
       "max      4.233710e+05\n",
       "Name: duration, dtype: float64"
      ]
     },
     "execution_count": 9,
     "metadata": {},
     "output_type": "execute_result"
    }
   ],
   "source": [
    "#checking the distribution of duration\n",
    "df_train.duration.describe()"
   ]
  },
  {
   "cell_type": "code",
   "execution_count": 10,
   "id": "89a53348-5014-4e27-8097-abbf766821df",
   "metadata": {},
   "outputs": [
    {
     "data": {
      "text/plain": [
       "Text(0.5, 1.0, 'Plot of distribution of duration variable')"
      ]
     },
     "execution_count": 10,
     "metadata": {},
     "output_type": "execute_result"
    },
    {
     "data": {
      "image/png": "[encoded data removed]",
      "text/plain": [
       "<Figure size 432x288 with 1 Axes>"
      ]
     },
     "metadata": {
      "needs_background": "light"
     },
     "output_type": "display_data"
    }
   ],
   "source": [
    "sns.distplot(df_train.duration)\n",
    "plt.title(\"Plot of distribution of duration variable\")"
   ]
  },
  {
   "cell_type": "code",
   "execution_count": 11,
   "id": "595d3b49-8784-4b61-a15a-1fc4005c49df",
   "metadata": {},
   "outputs": [],
   "source": [
    "df_new=df_train[(df_train.duration >= 1) & (df_train.duration <= 60)]\n",
    "df_val=df_val[(df_val.duration >= 1) & (df_val.duration <= 60)]"
   ]
  },
  {
   "cell_type": "code",
   "execution_count": 12,
   "id": "7372c229-fbd4-41bc-a22a-7df1118573b4",
   "metadata": {},
   "outputs": [
    {
     "name": "stdout",
     "output_type": "stream",
     "text": [
      "Number of records dropped are 44286\n"
     ]
    }
   ],
   "source": [
    "print(\"Number of records dropped are {}\".format((len(df_train) - len(df_new))))"
   ]
  },
  {
   "cell_type": "code",
   "execution_count": 13,
   "id": "6a165588-8e94-40d2-921f-771de60ab90d",
   "metadata": {},
   "outputs": [
    {
     "name": "stdout",
     "output_type": "stream",
     "text": [
      "1109826\n"
     ]
    }
   ],
   "source": [
    "#remaining records after dropping some values \n",
    "print(len(df_new))"
   ]
  },
  {
   "cell_type": "code",
   "execution_count": 14,
   "id": "3aea483b-6e34-4f5f-b737-0ef0d6f99a25",
   "metadata": {},
   "outputs": [],
   "source": [
    "#This is a function definition to show the state of the data at any given point\n",
    "def show_data_state(data):\n",
    "    df = pd.DataFrame(index=[\"unique values\", \"dtype\", \"null values\", \"null%\"])\n",
    "    print()\n",
    "    for col in data.columns:\n",
    "        df[col] = [data[col].nunique(), data[col].dtype, data[col].isnull().sum(), f\"{(data[col].isnull().sum()/data[col].shape[0]) * 100:.2f}\"]\n",
    "    return(df.T)"
   ]
  },
  {
   "cell_type": "code",
   "execution_count": 15,
   "id": "42248c1f-bb01-4d7f-86a7-d74f299d6acd",
   "metadata": {},
   "outputs": [
    {
     "name": "stdout",
     "output_type": "stream",
     "text": [
      "\n"
     ]
    },
    {
     "data": {
      "text/html": [
       "<div>\n",
       "<style scoped>\n",
       "    .dataframe tbody tr th:only-of-type {\n",
       "        vertical-align: middle;\n",
       "    }\n",
       "\n",
       "    .dataframe tbody tr th {\n",
       "        vertical-align: top;\n",
       "    }\n",
       "\n",
       "    .dataframe thead th {\n",
       "        text-align: right;\n",
       "    }\n",
       "</style>\n",
       "<table border=\"1\" class=\"dataframe\">\n",
       "  <thead>\n",
       "    <tr style=\"text-align: right;\">\n",
       "      <th></th>\n",
       "      <th>unique values</th>\n",
       "      <th>dtype</th>\n",
       "      <th>null values</th>\n",
       "      <th>null%</th>\n",
       "    </tr>\n",
       "  </thead>\n",
       "  <tbody>\n",
       "    <tr>\n",
       "      <th>dispatching_base_num</th>\n",
       "      <td>533</td>\n",
       "      <td>object</td>\n",
       "      <td>0</td>\n",
       "      <td>0.00</td>\n",
       "    </tr>\n",
       "    <tr>\n",
       "      <th>pickup_datetime</th>\n",
       "      <td>785436</td>\n",
       "      <td>datetime64[ns]</td>\n",
       "      <td>0</td>\n",
       "      <td>0.00</td>\n",
       "    </tr>\n",
       "    <tr>\n",
       "      <th>dropOff_datetime</th>\n",
       "      <td>790848</td>\n",
       "      <td>datetime64[ns]</td>\n",
       "      <td>0</td>\n",
       "      <td>0.00</td>\n",
       "    </tr>\n",
       "    <tr>\n",
       "      <th>PUlocationID</th>\n",
       "      <td>261</td>\n",
       "      <td>float64</td>\n",
       "      <td>927008</td>\n",
       "      <td>83.53</td>\n",
       "    </tr>\n",
       "    <tr>\n",
       "      <th>DOlocationID</th>\n",
       "      <td>262</td>\n",
       "      <td>float64</td>\n",
       "      <td>147907</td>\n",
       "      <td>13.33</td>\n",
       "    </tr>\n",
       "    <tr>\n",
       "      <th>SR_Flag</th>\n",
       "      <td>0</td>\n",
       "      <td>object</td>\n",
       "      <td>1109826</td>\n",
       "      <td>100.00</td>\n",
       "    </tr>\n",
       "    <tr>\n",
       "      <th>Affiliated_base_number</th>\n",
       "      <td>698</td>\n",
       "      <td>object</td>\n",
       "      <td>773</td>\n",
       "      <td>0.07</td>\n",
       "    </tr>\n",
       "    <tr>\n",
       "      <th>duration</th>\n",
       "      <td>3541</td>\n",
       "      <td>float64</td>\n",
       "      <td>0</td>\n",
       "      <td>0.00</td>\n",
       "    </tr>\n",
       "  </tbody>\n",
       "</table>\n",
       "</div>"
      ],
      "text/plain": [
       "                       unique values           dtype null values   null%\n",
       "dispatching_base_num             533          object           0    0.00\n",
       "pickup_datetime               785436  datetime64[ns]           0    0.00\n",
       "dropOff_datetime              790848  datetime64[ns]           0    0.00\n",
       "PUlocationID                     261         float64      927008   83.53\n",
       "DOlocationID                     262         float64      147907   13.33\n",
       "SR_Flag                            0          object     1109826  100.00\n",
       "Affiliated_base_number           698          object         773    0.07\n",
       "duration                        3541         float64           0    0.00"
      ]
     },
     "execution_count": 15,
     "metadata": {},
     "output_type": "execute_result"
    }
   ],
   "source": [
    "show_data_state(df_new)"
   ]
  },
  {
   "cell_type": "code",
   "execution_count": 16,
   "id": "d9e9519c-8e00-4df2-be5a-7ff45054e1aa",
   "metadata": {},
   "outputs": [
    {
     "name": "stdout",
     "output_type": "stream",
     "text": [
      "\n"
     ]
    },
    {
     "data": {
      "text/html": [
       "<div>\n",
       "<style scoped>\n",
       "    .dataframe tbody tr th:only-of-type {\n",
       "        vertical-align: middle;\n",
       "    }\n",
       "\n",
       "    .dataframe tbody tr th {\n",
       "        vertical-align: top;\n",
       "    }\n",
       "\n",
       "    .dataframe thead th {\n",
       "        text-align: right;\n",
       "    }\n",
       "</style>\n",
       "<table border=\"1\" class=\"dataframe\">\n",
       "  <thead>\n",
       "    <tr style=\"text-align: right;\">\n",
       "      <th></th>\n",
       "      <th>unique values</th>\n",
       "      <th>dtype</th>\n",
       "      <th>null values</th>\n",
       "      <th>null%</th>\n",
       "    </tr>\n",
       "  </thead>\n",
       "  <tbody>\n",
       "    <tr>\n",
       "      <th>dispatching_base_num</th>\n",
       "      <td>489</td>\n",
       "      <td>object</td>\n",
       "      <td>0</td>\n",
       "      <td>0.00</td>\n",
       "    </tr>\n",
       "    <tr>\n",
       "      <th>pickup_datetime</th>\n",
       "      <td>699320</td>\n",
       "      <td>datetime64[ns]</td>\n",
       "      <td>0</td>\n",
       "      <td>0.00</td>\n",
       "    </tr>\n",
       "    <tr>\n",
       "      <th>dropOff_datetime</th>\n",
       "      <td>705820</td>\n",
       "      <td>datetime64[ns]</td>\n",
       "      <td>0</td>\n",
       "      <td>0.00</td>\n",
       "    </tr>\n",
       "    <tr>\n",
       "      <th>PUlocationID</th>\n",
       "      <td>261</td>\n",
       "      <td>float64</td>\n",
       "      <td>848661</td>\n",
       "      <td>85.71</td>\n",
       "    </tr>\n",
       "    <tr>\n",
       "      <th>DOlocationID</th>\n",
       "      <td>263</td>\n",
       "      <td>float64</td>\n",
       "      <td>134760</td>\n",
       "      <td>13.61</td>\n",
       "    </tr>\n",
       "    <tr>\n",
       "      <th>SR_Flag</th>\n",
       "      <td>0</td>\n",
       "      <td>object</td>\n",
       "      <td>990113</td>\n",
       "      <td>100.00</td>\n",
       "    </tr>\n",
       "    <tr>\n",
       "      <th>Affiliated_base_number</th>\n",
       "      <td>659</td>\n",
       "      <td>object</td>\n",
       "      <td>0</td>\n",
       "      <td>0.00</td>\n",
       "    </tr>\n",
       "    <tr>\n",
       "      <th>duration</th>\n",
       "      <td>3541</td>\n",
       "      <td>float64</td>\n",
       "      <td>0</td>\n",
       "      <td>0.00</td>\n",
       "    </tr>\n",
       "  </tbody>\n",
       "</table>\n",
       "</div>"
      ],
      "text/plain": [
       "                       unique values           dtype null values   null%\n",
       "dispatching_base_num             489          object           0    0.00\n",
       "pickup_datetime               699320  datetime64[ns]           0    0.00\n",
       "dropOff_datetime              705820  datetime64[ns]           0    0.00\n",
       "PUlocationID                     261         float64      848661   85.71\n",
       "DOlocationID                     263         float64      134760   13.61\n",
       "SR_Flag                            0          object      990113  100.00\n",
       "Affiliated_base_number           659          object           0    0.00\n",
       "duration                        3541         float64           0    0.00"
      ]
     },
     "execution_count": 16,
     "metadata": {},
     "output_type": "execute_result"
    }
   ],
   "source": [
    "show_data_state(df_val)"
   ]
  },
  {
   "cell_type": "code",
   "execution_count": 17,
   "id": "3606104b-d4bd-4193-bceb-5899ffcc17ea",
   "metadata": {},
   "outputs": [],
   "source": [
    "df_new['PUlocationID']= df_new['PUlocationID'].fillna(-1)\n",
    "df_new['DOlocationID']= df_new['DOlocationID'].fillna(-1)\n",
    "df_val['PUlocationID']= df_val['PUlocationID'].fillna(-1)\n",
    "df_val['DOlocationID']= df_val['DOlocationID'].fillna(-1)"
   ]
  },
  {
   "cell_type": "code",
   "execution_count": 18,
   "id": "f4b183b5-7920-4504-bb2a-3324e190bc36",
   "metadata": {},
   "outputs": [
    {
     "name": "stdout",
     "output_type": "stream",
     "text": [
      "\n"
     ]
    },
    {
     "data": {
      "text/html": [
       "<div>\n",
       "<style scoped>\n",
       "    .dataframe tbody tr th:only-of-type {\n",
       "        vertical-align: middle;\n",
       "    }\n",
       "\n",
       "    .dataframe tbody tr th {\n",
       "        vertical-align: top;\n",
       "    }\n",
       "\n",
       "    .dataframe thead th {\n",
       "        text-align: right;\n",
       "    }\n",
       "</style>\n",
       "<table border=\"1\" class=\"dataframe\">\n",
       "  <thead>\n",
       "    <tr style=\"text-align: right;\">\n",
       "      <th></th>\n",
       "      <th>unique values</th>\n",
       "      <th>dtype</th>\n",
       "      <th>null values</th>\n",
       "      <th>null%</th>\n",
       "    </tr>\n",
       "  </thead>\n",
       "  <tbody>\n",
       "    <tr>\n",
       "      <th>dispatching_base_num</th>\n",
       "      <td>489</td>\n",
       "      <td>object</td>\n",
       "      <td>0</td>\n",
       "      <td>0.00</td>\n",
       "    </tr>\n",
       "    <tr>\n",
       "      <th>pickup_datetime</th>\n",
       "      <td>699320</td>\n",
       "      <td>datetime64[ns]</td>\n",
       "      <td>0</td>\n",
       "      <td>0.00</td>\n",
       "    </tr>\n",
       "    <tr>\n",
       "      <th>dropOff_datetime</th>\n",
       "      <td>705820</td>\n",
       "      <td>datetime64[ns]</td>\n",
       "      <td>0</td>\n",
       "      <td>0.00</td>\n",
       "    </tr>\n",
       "    <tr>\n",
       "      <th>PUlocationID</th>\n",
       "      <td>262</td>\n",
       "      <td>float64</td>\n",
       "      <td>0</td>\n",
       "      <td>0.00</td>\n",
       "    </tr>\n",
       "    <tr>\n",
       "      <th>DOlocationID</th>\n",
       "      <td>264</td>\n",
       "      <td>float64</td>\n",
       "      <td>0</td>\n",
       "      <td>0.00</td>\n",
       "    </tr>\n",
       "    <tr>\n",
       "      <th>SR_Flag</th>\n",
       "      <td>0</td>\n",
       "      <td>object</td>\n",
       "      <td>990113</td>\n",
       "      <td>100.00</td>\n",
       "    </tr>\n",
       "    <tr>\n",
       "      <th>Affiliated_base_number</th>\n",
       "      <td>659</td>\n",
       "      <td>object</td>\n",
       "      <td>0</td>\n",
       "      <td>0.00</td>\n",
       "    </tr>\n",
       "    <tr>\n",
       "      <th>duration</th>\n",
       "      <td>3541</td>\n",
       "      <td>float64</td>\n",
       "      <td>0</td>\n",
       "      <td>0.00</td>\n",
       "    </tr>\n",
       "  </tbody>\n",
       "</table>\n",
       "</div>"
      ],
      "text/plain": [
       "                       unique values           dtype null values   null%\n",
       "dispatching_base_num             489          object           0    0.00\n",
       "pickup_datetime               699320  datetime64[ns]           0    0.00\n",
       "dropOff_datetime              705820  datetime64[ns]           0    0.00\n",
       "PUlocationID                     262         float64           0    0.00\n",
       "DOlocationID                     264         float64           0    0.00\n",
       "SR_Flag                            0          object      990113  100.00\n",
       "Affiliated_base_number           659          object           0    0.00\n",
       "duration                        3541         float64           0    0.00"
      ]
     },
     "execution_count": 18,
     "metadata": {},
     "output_type": "execute_result"
    }
   ],
   "source": [
    "show_data_state(df_val)"
   ]
  },
  {
   "cell_type": "code",
   "execution_count": 19,
   "id": "666950bc-3d8d-4ce1-a121-371ebd584919",
   "metadata": {},
   "outputs": [
    {
     "name": "stdout",
     "output_type": "stream",
     "text": [
      "\n"
     ]
    },
    {
     "data": {
      "text/html": [
       "<div>\n",
       "<style scoped>\n",
       "    .dataframe tbody tr th:only-of-type {\n",
       "        vertical-align: middle;\n",
       "    }\n",
       "\n",
       "    .dataframe tbody tr th {\n",
       "        vertical-align: top;\n",
       "    }\n",
       "\n",
       "    .dataframe thead th {\n",
       "        text-align: right;\n",
       "    }\n",
       "</style>\n",
       "<table border=\"1\" class=\"dataframe\">\n",
       "  <thead>\n",
       "    <tr style=\"text-align: right;\">\n",
       "      <th></th>\n",
       "      <th>unique values</th>\n",
       "      <th>dtype</th>\n",
       "      <th>null values</th>\n",
       "      <th>null%</th>\n",
       "    </tr>\n",
       "  </thead>\n",
       "  <tbody>\n",
       "    <tr>\n",
       "      <th>dispatching_base_num</th>\n",
       "      <td>533</td>\n",
       "      <td>object</td>\n",
       "      <td>0</td>\n",
       "      <td>0.00</td>\n",
       "    </tr>\n",
       "    <tr>\n",
       "      <th>pickup_datetime</th>\n",
       "      <td>785436</td>\n",
       "      <td>datetime64[ns]</td>\n",
       "      <td>0</td>\n",
       "      <td>0.00</td>\n",
       "    </tr>\n",
       "    <tr>\n",
       "      <th>dropOff_datetime</th>\n",
       "      <td>790848</td>\n",
       "      <td>datetime64[ns]</td>\n",
       "      <td>0</td>\n",
       "      <td>0.00</td>\n",
       "    </tr>\n",
       "    <tr>\n",
       "      <th>PUlocationID</th>\n",
       "      <td>262</td>\n",
       "      <td>float64</td>\n",
       "      <td>0</td>\n",
       "      <td>0.00</td>\n",
       "    </tr>\n",
       "    <tr>\n",
       "      <th>DOlocationID</th>\n",
       "      <td>263</td>\n",
       "      <td>float64</td>\n",
       "      <td>0</td>\n",
       "      <td>0.00</td>\n",
       "    </tr>\n",
       "    <tr>\n",
       "      <th>SR_Flag</th>\n",
       "      <td>0</td>\n",
       "      <td>object</td>\n",
       "      <td>1109826</td>\n",
       "      <td>100.00</td>\n",
       "    </tr>\n",
       "    <tr>\n",
       "      <th>Affiliated_base_number</th>\n",
       "      <td>698</td>\n",
       "      <td>object</td>\n",
       "      <td>773</td>\n",
       "      <td>0.07</td>\n",
       "    </tr>\n",
       "    <tr>\n",
       "      <th>duration</th>\n",
       "      <td>3541</td>\n",
       "      <td>float64</td>\n",
       "      <td>0</td>\n",
       "      <td>0.00</td>\n",
       "    </tr>\n",
       "  </tbody>\n",
       "</table>\n",
       "</div>"
      ],
      "text/plain": [
       "                       unique values           dtype null values   null%\n",
       "dispatching_base_num             533          object           0    0.00\n",
       "pickup_datetime               785436  datetime64[ns]           0    0.00\n",
       "dropOff_datetime              790848  datetime64[ns]           0    0.00\n",
       "PUlocationID                     262         float64           0    0.00\n",
       "DOlocationID                     263         float64           0    0.00\n",
       "SR_Flag                            0          object     1109826  100.00\n",
       "Affiliated_base_number           698          object         773    0.07\n",
       "duration                        3541         float64           0    0.00"
      ]
     },
     "execution_count": 19,
     "metadata": {},
     "output_type": "execute_result"
    }
   ],
   "source": [
    "show_data_state(df_new)"
   ]
  },
  {
   "cell_type": "code",
   "execution_count": 20,
   "id": "a38ad506-0afc-4d24-b3a4-89ae6a070e2f",
   "metadata": {},
   "outputs": [
    {
     "data": {
      "text/plain": [
       "-1.0      83.527328\n",
       " 221.0     0.750568\n",
       " 206.0     0.612438\n",
       " 129.0     0.484671\n",
       " 115.0     0.367805\n",
       "            ...    \n",
       " 111.0     0.000451\n",
       " 27.0      0.000360\n",
       " 34.0      0.000270\n",
       " 2.0       0.000180\n",
       " 110.0     0.000090\n",
       "Name: PUlocationID, Length: 262, dtype: float64"
      ]
     },
     "execution_count": 20,
     "metadata": {},
     "output_type": "execute_result"
    }
   ],
   "source": [
    "df_new['PUlocationID'].value_counts() / len(df_new) * 100"
   ]
  },
  {
   "cell_type": "markdown",
   "id": "bab6ced5-0b1a-42f7-883a-130d5ce62827",
   "metadata": {},
   "source": [
    "### What's the fractions of missing values for the pickup location ID? I.e. fraction of \"-1\"s after you filled the NAs\n",
    "### 83.5 %"
   ]
  },
  {
   "cell_type": "code",
   "execution_count": 21,
   "id": "2774f1f8-ad05-49a5-b268-eab64600de5f",
   "metadata": {},
   "outputs": [],
   "source": [
    "categorical = ['PUlocationID', 'DOlocationID']\n",
    "\n",
    "df_new[categorical] = df_new[categorical].astype(str)\n",
    "df_val[categorical] = df_val[categorical].astype(str)"
   ]
  },
  {
   "cell_type": "code",
   "execution_count": 22,
   "id": "fc8c39cf-c671-42f7-80a8-feaff94617bb",
   "metadata": {},
   "outputs": [],
   "source": [
    "train_dicts = df_new[categorical].to_dict(orient='records')\n",
    "val_dicts = df_val[categorical].to_dict(orient='records')"
   ]
  },
  {
   "cell_type": "code",
   "execution_count": 23,
   "id": "3793d510-b276-44db-8b6c-04c0cfb142d3",
   "metadata": {},
   "outputs": [],
   "source": [
    "dv = DictVectorizer()\n",
    "X_train = dv.fit_transform(train_dicts)\n",
    "val_data = dv.transform(val_dicts)"
   ]
  },
  {
   "cell_type": "code",
   "execution_count": 24,
   "id": "6e10d47b-fed2-4882-9f79-3470e2bfeb5a",
   "metadata": {},
   "outputs": [
    {
     "data": {
      "text/plain": [
       "<1109826x525 sparse matrix of type '<class 'numpy.float64'>'\n",
       "\twith 2219652 stored elements in Compressed Sparse Row format>"
      ]
     },
     "execution_count": 24,
     "metadata": {},
     "output_type": "execute_result"
    }
   ],
   "source": [
    "X_train"
   ]
  },
  {
   "cell_type": "code",
   "execution_count": 25,
   "id": "0eb4f226-e596-47a4-bd4f-3d82b49af258",
   "metadata": {},
   "outputs": [
    {
     "data": {
      "text/plain": [
       "525"
      ]
     },
     "execution_count": 25,
     "metadata": {},
     "output_type": "execute_result"
    }
   ],
   "source": [
    "#Question 4: Dimensionality after OHE\n",
    "len(dv.feature_names_)"
   ]
  },
  {
   "cell_type": "markdown",
   "id": "41dfbd84-cede-4a02-bf1f-81ba15a7d201",
   "metadata": {},
   "source": [
    "### Therefore, dimensionality of the feature matrix above is 525"
   ]
  },
  {
   "cell_type": "code",
   "execution_count": 26,
   "id": "11c63536-17a4-4df8-a29b-5a0ebfed7b1a",
   "metadata": {},
   "outputs": [],
   "source": [
    "#Target column\n",
    "target = 'duration'\n",
    "y_train = df_new[target].values\n",
    "y_val  = df_val[target].values"
   ]
  },
  {
   "cell_type": "code",
   "execution_count": 27,
   "id": "77443dea-50b4-4871-a70c-ee5083d2e3b6",
   "metadata": {},
   "outputs": [
    {
     "data": {
      "text/plain": [
       "LinearRegression()"
      ]
     },
     "execution_count": 27,
     "metadata": {},
     "output_type": "execute_result"
    }
   ],
   "source": [
    "#training of the model.\n",
    "lr = LinearRegression()\n",
    "lr.fit(X_train, y_train)"
   ]
  },
  {
   "cell_type": "code",
   "execution_count": 28,
   "id": "466cc31e-ceca-41e0-b3bf-fb123b29b2f5",
   "metadata": {},
   "outputs": [
    {
     "data": {
      "text/plain": [
       "10.528519107204998"
      ]
     },
     "execution_count": 28,
     "metadata": {},
     "output_type": "execute_result"
    }
   ],
   "source": [
    "y_pred1 = lr.predict(X_train)\n",
    "\n",
    "mean_squared_error(y_train, y_pred1, squared=False)"
   ]
  },
  {
   "cell_type": "code",
   "execution_count": 29,
   "id": "bf00388c-6375-4e35-871f-c9a31f65d3fc",
   "metadata": {},
   "outputs": [
    {
     "data": {
      "text/plain": [
       "11.014283137075541"
      ]
     },
     "execution_count": 29,
     "metadata": {},
     "output_type": "execute_result"
    }
   ],
   "source": [
    "y_pred2 = lr.predict(val_data)\n",
    "\n",
    "mean_squared_error(y_val, y_pred2, squared=False)"
   ]
  },
  {
   "cell_type": "code",
   "execution_count": null,
   "id": "bea7589d-4c79-45ff-a070-4312c7aca2aa",
   "metadata": {},
   "outputs": [],
   "source": []
  }
 ],
 "metadata": {
  "kernelspec": {
   "display_name": "Python 3 (ipykernel)",
   "language": "python",
   "name": "python3"
  },
  "language_info": {
   "codemirror_mode": {
    "name": "ipython",
    "version": 3
   },
   "file_extension": ".py",
   "mimetype": "text/x-python",
   "name": "python",
   "nbconvert_exporter": "python",
   "pygments_lexer": "ipython3",
   "version": "3.7.3"
  }
 },
 "nbformat": 4,
 "nbformat_minor": 5
}
